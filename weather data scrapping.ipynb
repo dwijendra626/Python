{
 "cells": [
  {
   "cell_type": "code",
   "execution_count": 1,
   "metadata": {},
   "outputs": [
    {
     "name": "stdout",
     "output_type": "stream",
     "text": [
      "<div class=\"tombstone-container\">\n",
      " <p class=\"period-name\">\n",
      "  Overnight\n",
      "  <br/>\n",
      "  <br/>\n",
      " </p>\n",
      " <p>\n",
      "  <img alt=\"Overnight: Partly cloudy, with a low around 51. West wind around 14 mph, with gusts as high as 20 mph. \" class=\"forecast-icon\" src=\"newimages/medium/nsct.png\" title=\"Overnight: Partly cloudy, with a low around 51. West wind around 14 mph, with gusts as high as 20 mph. \"/>\n",
      " </p>\n",
      " <p class=\"short-desc\">\n",
      "  Partly Cloudy\n",
      " </p>\n",
      " <p class=\"temp temp-low\">\n",
      "  Low: 51 °F\n",
      " </p>\n",
      "</div>\n"
     ]
    }
   ],
   "source": [
    "import requests\n",
    "from bs4 import BeautifulSoup as bs\n",
    "page = requests.get(\"https://forecast.weather.gov/MapClick.php?lat=37.7772&lon=-122.4168#.YH5W6GczbIW\")\n",
    "soup = bs(page.content,'html.parser')\n",
    "seven_day = soup.find(id='seven-day-forecast')\n",
    "forecast_items = seven_day.find_all(class_='tombstone-container')\n",
    "tonight = forecast_items[0]\n",
    "print(tonight.prettify())"
   ]
  },
  {
   "cell_type": "code",
   "execution_count": 2,
   "metadata": {},
   "outputs": [
    {
     "name": "stdout",
     "output_type": "stream",
     "text": [
      "Overnight\n",
      "Partly Cloudy\n",
      "Low: 51 °F\n"
     ]
    }
   ],
   "source": [
    "period = tonight.find(class_='period-name').get_text()\n",
    "short_desc = tonight.find(class_='short-desc').get_text()\n",
    "temp = tonight.find(class_='temp').get_text()\n",
    "print(period)\n",
    "print(short_desc)\n",
    "print(temp)"
   ]
  },
  {
   "cell_type": "code",
   "execution_count": 3,
   "metadata": {},
   "outputs": [
    {
     "name": "stdout",
     "output_type": "stream",
     "text": [
      "Overnight: Partly cloudy, with a low around 51. West wind around 14 mph, with gusts as high as 20 mph. \n"
     ]
    }
   ],
   "source": [
    "img = tonight.find('img')\n",
    "desc = img['title']\n",
    "print(desc)"
   ]
  },
  {
   "cell_type": "code",
   "execution_count": 4,
   "metadata": {},
   "outputs": [
    {
     "data": {
      "text/plain": [
       "['Overnight',\n",
       " 'Tuesday',\n",
       " 'TuesdayNight',\n",
       " 'Wednesday',\n",
       " 'WednesdayNight',\n",
       " 'Thursday',\n",
       " 'ThursdayNight',\n",
       " 'Friday',\n",
       " 'FridayNight']"
      ]
     },
     "execution_count": 4,
     "metadata": {},
     "output_type": "execute_result"
    }
   ],
   "source": [
    "periods = [pt.get_text() for pt in seven_day.select(\".tombstone-container .period-name\")]\n",
    "periods"
   ]
  },
  {
   "cell_type": "code",
   "execution_count": 5,
   "metadata": {},
   "outputs": [
    {
     "data": {
      "text/plain": [
       "['Partly Cloudy',\n",
       " 'Sunny',\n",
       " 'Mostly Clear',\n",
       " 'Sunny',\n",
       " 'Mostly Clear',\n",
       " 'Sunny',\n",
       " 'Partly Cloudy',\n",
       " 'Mostly Sunny',\n",
       " 'Mostly Cloudy']"
      ]
     },
     "execution_count": 5,
     "metadata": {},
     "output_type": "execute_result"
    }
   ],
   "source": [
    "short_descs = [sd.get_text() for sd in seven_day.select(\".tombstone-container .short-desc\")]\n",
    "short_descs"
   ]
  },
  {
   "cell_type": "code",
   "execution_count": 6,
   "metadata": {},
   "outputs": [
    {
     "data": {
      "text/plain": [
       "['Low: 51 °F',\n",
       " 'High: 64 °F',\n",
       " 'Low: 50 °F',\n",
       " 'High: 65 °F',\n",
       " 'Low: 50 °F',\n",
       " 'High: 65 °F',\n",
       " 'Low: 50 °F',\n",
       " 'High: 64 °F',\n",
       " 'Low: 50 °F']"
      ]
     },
     "execution_count": 6,
     "metadata": {},
     "output_type": "execute_result"
    }
   ],
   "source": [
    "temps = [t.get_text() for t in seven_day.select(\".tombstone-container .temp\")]\n",
    "temps"
   ]
  },
  {
   "cell_type": "code",
   "execution_count": 7,
   "metadata": {},
   "outputs": [
    {
     "data": {
      "text/plain": [
       "['Overnight: Partly cloudy, with a low around 51. West wind around 14 mph, with gusts as high as 20 mph. ',\n",
       " 'Tuesday: Sunny, with a high near 64. Light west wind increasing to 10 to 15 mph in the morning. Winds could gust as high as 20 mph. ',\n",
       " 'Tuesday Night: Mostly clear, with a low around 50. West wind 5 to 9 mph becoming light southwest. ',\n",
       " 'Wednesday: Sunny, with a high near 65. West southwest wind 6 to 16 mph, with gusts as high as 21 mph. ',\n",
       " 'Wednesday Night: Mostly clear, with a low around 50. Southwest wind 9 to 14 mph, with gusts as high as 20 mph. ',\n",
       " 'Thursday: Sunny, with a high near 65.',\n",
       " 'Thursday Night: Partly cloudy, with a low around 50.',\n",
       " 'Friday: Mostly sunny, with a high near 64.',\n",
       " 'Friday Night: Mostly cloudy, with a low around 50.']"
      ]
     },
     "execution_count": 7,
     "metadata": {},
     "output_type": "execute_result"
    }
   ],
   "source": [
    "descs = [d['title'] for d in seven_day.select(\".tombstone-container img\")]\n",
    "descs"
   ]
  },
  {
   "cell_type": "code",
   "execution_count": 37,
   "metadata": {
    "scrolled": true
   },
   "outputs": [
    {
     "data": {
      "text/html": [
       "<div>\n",
       "<style scoped>\n",
       "    .dataframe tbody tr th:only-of-type {\n",
       "        vertical-align: middle;\n",
       "    }\n",
       "\n",
       "    .dataframe tbody tr th {\n",
       "        vertical-align: top;\n",
       "    }\n",
       "\n",
       "    .dataframe thead th {\n",
       "        text-align: right;\n",
       "    }\n",
       "</style>\n",
       "<table border=\"1\" class=\"dataframe\">\n",
       "  <thead>\n",
       "    <tr style=\"text-align: right;\">\n",
       "      <th></th>\n",
       "      <th>periods</th>\n",
       "      <th>short_descs</th>\n",
       "      <th>temps</th>\n",
       "      <th>descs</th>\n",
       "    </tr>\n",
       "  </thead>\n",
       "  <tbody>\n",
       "    <tr>\n",
       "      <th>0</th>\n",
       "      <td>Overnight</td>\n",
       "      <td>Partly Cloudy</td>\n",
       "      <td>Low: 51 °F</td>\n",
       "      <td>Overnight: Partly cloudy, with a low around 51. West wind around 14 mph, with gusts as high as 20 mph.</td>\n",
       "    </tr>\n",
       "    <tr>\n",
       "      <th>1</th>\n",
       "      <td>Tuesday</td>\n",
       "      <td>Sunny</td>\n",
       "      <td>High: 64 °F</td>\n",
       "      <td>Tuesday: Sunny, with a high near 64. Light west wind increasing to 10 to 15 mph in the morning. Winds could gust as high as 20 mph.</td>\n",
       "    </tr>\n",
       "    <tr>\n",
       "      <th>2</th>\n",
       "      <td>TuesdayNight</td>\n",
       "      <td>Mostly Clear</td>\n",
       "      <td>Low: 50 °F</td>\n",
       "      <td>Tuesday Night: Mostly clear, with a low around 50. West wind 5 to 9 mph becoming light southwest.</td>\n",
       "    </tr>\n",
       "    <tr>\n",
       "      <th>3</th>\n",
       "      <td>Wednesday</td>\n",
       "      <td>Sunny</td>\n",
       "      <td>High: 65 °F</td>\n",
       "      <td>Wednesday: Sunny, with a high near 65. West southwest wind 6 to 16 mph, with gusts as high as 21 mph.</td>\n",
       "    </tr>\n",
       "    <tr>\n",
       "      <th>4</th>\n",
       "      <td>WednesdayNight</td>\n",
       "      <td>Mostly Clear</td>\n",
       "      <td>Low: 50 °F</td>\n",
       "      <td>Wednesday Night: Mostly clear, with a low around 50. Southwest wind 9 to 14 mph, with gusts as high as 20 mph.</td>\n",
       "    </tr>\n",
       "    <tr>\n",
       "      <th>5</th>\n",
       "      <td>Thursday</td>\n",
       "      <td>Sunny</td>\n",
       "      <td>High: 65 °F</td>\n",
       "      <td>Thursday: Sunny, with a high near 65.</td>\n",
       "    </tr>\n",
       "    <tr>\n",
       "      <th>6</th>\n",
       "      <td>ThursdayNight</td>\n",
       "      <td>Partly Cloudy</td>\n",
       "      <td>Low: 50 °F</td>\n",
       "      <td>Thursday Night: Partly cloudy, with a low around 50.</td>\n",
       "    </tr>\n",
       "    <tr>\n",
       "      <th>7</th>\n",
       "      <td>Friday</td>\n",
       "      <td>Mostly Sunny</td>\n",
       "      <td>High: 64 °F</td>\n",
       "      <td>Friday: Mostly sunny, with a high near 64.</td>\n",
       "    </tr>\n",
       "    <tr>\n",
       "      <th>8</th>\n",
       "      <td>FridayNight</td>\n",
       "      <td>Mostly Cloudy</td>\n",
       "      <td>Low: 50 °F</td>\n",
       "      <td>Friday Night: Mostly cloudy, with a low around 50.</td>\n",
       "    </tr>\n",
       "  </tbody>\n",
       "</table>\n",
       "</div>"
      ],
      "text/plain": [
       "          periods    short_descs        temps  \\\n",
       "0       Overnight  Partly Cloudy   Low: 51 °F   \n",
       "1         Tuesday          Sunny  High: 64 °F   \n",
       "2    TuesdayNight   Mostly Clear   Low: 50 °F   \n",
       "3       Wednesday          Sunny  High: 65 °F   \n",
       "4  WednesdayNight   Mostly Clear   Low: 50 °F   \n",
       "5        Thursday          Sunny  High: 65 °F   \n",
       "6   ThursdayNight  Partly Cloudy   Low: 50 °F   \n",
       "7          Friday   Mostly Sunny  High: 64 °F   \n",
       "8     FridayNight  Mostly Cloudy   Low: 50 °F   \n",
       "\n",
       "                                                                                                                                  descs  \n",
       "0                               Overnight: Partly cloudy, with a low around 51. West wind around 14 mph, with gusts as high as 20 mph.   \n",
       "1  Tuesday: Sunny, with a high near 64. Light west wind increasing to 10 to 15 mph in the morning. Winds could gust as high as 20 mph.   \n",
       "2                                    Tuesday Night: Mostly clear, with a low around 50. West wind 5 to 9 mph becoming light southwest.   \n",
       "3                                Wednesday: Sunny, with a high near 65. West southwest wind 6 to 16 mph, with gusts as high as 21 mph.   \n",
       "4                       Wednesday Night: Mostly clear, with a low around 50. Southwest wind 9 to 14 mph, with gusts as high as 20 mph.   \n",
       "5                                                                                                 Thursday: Sunny, with a high near 65.  \n",
       "6                                                                                  Thursday Night: Partly cloudy, with a low around 50.  \n",
       "7                                                                                            Friday: Mostly sunny, with a high near 64.  \n",
       "8                                                                                    Friday Night: Mostly cloudy, with a low around 50.  "
      ]
     },
     "execution_count": 37,
     "metadata": {},
     "output_type": "execute_result"
    }
   ],
   "source": [
    "import pandas as pd\n",
    "pd.set_option('display.max_colwidth',None)\n",
    "weather = pd.DataFrame({'periods' : periods,\n",
    "                    'short_descs' : short_descs,\n",
    "                    'temps' : temps,\n",
    "                    'descs' : descs})\n",
    "weather.style.set_table_styles([dict(selector='th',props=[('text-align', 'center')])]).set_properties(**{'text-align':'center'})\n",
    "weather"
   ]
  },
  {
   "cell_type": "code",
   "execution_count": 43,
   "metadata": {},
   "outputs": [
    {
     "data": {
      "text/plain": [
       "0     True\n",
       "1    False\n",
       "2     True\n",
       "3    False\n",
       "4     True\n",
       "5    False\n",
       "6     True\n",
       "7    False\n",
       "8     True\n",
       "Name: temps, dtype: bool"
      ]
     },
     "execution_count": 43,
     "metadata": {},
     "output_type": "execute_result"
    }
   ],
   "source": [
    "is_night = weather[\"temps\"].str.contains(\"Low\")\n",
    "weather['is_night'] = is_night\n",
    "is_night"
   ]
  },
  {
   "cell_type": "code",
   "execution_count": 44,
   "metadata": {},
   "outputs": [
    {
     "data": {
      "text/html": [
       "<div>\n",
       "<style scoped>\n",
       "    .dataframe tbody tr th:only-of-type {\n",
       "        vertical-align: middle;\n",
       "    }\n",
       "\n",
       "    .dataframe tbody tr th {\n",
       "        vertical-align: top;\n",
       "    }\n",
       "\n",
       "    .dataframe thead th {\n",
       "        text-align: right;\n",
       "    }\n",
       "</style>\n",
       "<table border=\"1\" class=\"dataframe\">\n",
       "  <thead>\n",
       "    <tr style=\"text-align: right;\">\n",
       "      <th></th>\n",
       "      <th>periods</th>\n",
       "      <th>short_descs</th>\n",
       "      <th>temps</th>\n",
       "      <th>descs</th>\n",
       "      <th>is_night</th>\n",
       "    </tr>\n",
       "  </thead>\n",
       "  <tbody>\n",
       "    <tr>\n",
       "      <th>0</th>\n",
       "      <td>Overnight</td>\n",
       "      <td>Partly Cloudy</td>\n",
       "      <td>Low: 51 °F</td>\n",
       "      <td>Overnight: Partly cloudy, with a low around 51. West wind around 14 mph, with gusts as high as 20 mph.</td>\n",
       "      <td>True</td>\n",
       "    </tr>\n",
       "    <tr>\n",
       "      <th>1</th>\n",
       "      <td>Tuesday</td>\n",
       "      <td>Sunny</td>\n",
       "      <td>High: 64 °F</td>\n",
       "      <td>Tuesday: Sunny, with a high near 64. Light west wind increasing to 10 to 15 mph in the morning. Winds could gust as high as 20 mph.</td>\n",
       "      <td>False</td>\n",
       "    </tr>\n",
       "    <tr>\n",
       "      <th>2</th>\n",
       "      <td>TuesdayNight</td>\n",
       "      <td>Mostly Clear</td>\n",
       "      <td>Low: 50 °F</td>\n",
       "      <td>Tuesday Night: Mostly clear, with a low around 50. West wind 5 to 9 mph becoming light southwest.</td>\n",
       "      <td>True</td>\n",
       "    </tr>\n",
       "    <tr>\n",
       "      <th>3</th>\n",
       "      <td>Wednesday</td>\n",
       "      <td>Sunny</td>\n",
       "      <td>High: 65 °F</td>\n",
       "      <td>Wednesday: Sunny, with a high near 65. West southwest wind 6 to 16 mph, with gusts as high as 21 mph.</td>\n",
       "      <td>False</td>\n",
       "    </tr>\n",
       "    <tr>\n",
       "      <th>4</th>\n",
       "      <td>WednesdayNight</td>\n",
       "      <td>Mostly Clear</td>\n",
       "      <td>Low: 50 °F</td>\n",
       "      <td>Wednesday Night: Mostly clear, with a low around 50. Southwest wind 9 to 14 mph, with gusts as high as 20 mph.</td>\n",
       "      <td>True</td>\n",
       "    </tr>\n",
       "    <tr>\n",
       "      <th>5</th>\n",
       "      <td>Thursday</td>\n",
       "      <td>Sunny</td>\n",
       "      <td>High: 65 °F</td>\n",
       "      <td>Thursday: Sunny, with a high near 65.</td>\n",
       "      <td>False</td>\n",
       "    </tr>\n",
       "    <tr>\n",
       "      <th>6</th>\n",
       "      <td>ThursdayNight</td>\n",
       "      <td>Partly Cloudy</td>\n",
       "      <td>Low: 50 °F</td>\n",
       "      <td>Thursday Night: Partly cloudy, with a low around 50.</td>\n",
       "      <td>True</td>\n",
       "    </tr>\n",
       "    <tr>\n",
       "      <th>7</th>\n",
       "      <td>Friday</td>\n",
       "      <td>Mostly Sunny</td>\n",
       "      <td>High: 64 °F</td>\n",
       "      <td>Friday: Mostly sunny, with a high near 64.</td>\n",
       "      <td>False</td>\n",
       "    </tr>\n",
       "    <tr>\n",
       "      <th>8</th>\n",
       "      <td>FridayNight</td>\n",
       "      <td>Mostly Cloudy</td>\n",
       "      <td>Low: 50 °F</td>\n",
       "      <td>Friday Night: Mostly cloudy, with a low around 50.</td>\n",
       "      <td>True</td>\n",
       "    </tr>\n",
       "  </tbody>\n",
       "</table>\n",
       "</div>"
      ],
      "text/plain": [
       "          periods    short_descs        temps  \\\n",
       "0       Overnight  Partly Cloudy   Low: 51 °F   \n",
       "1         Tuesday          Sunny  High: 64 °F   \n",
       "2    TuesdayNight   Mostly Clear   Low: 50 °F   \n",
       "3       Wednesday          Sunny  High: 65 °F   \n",
       "4  WednesdayNight   Mostly Clear   Low: 50 °F   \n",
       "5        Thursday          Sunny  High: 65 °F   \n",
       "6   ThursdayNight  Partly Cloudy   Low: 50 °F   \n",
       "7          Friday   Mostly Sunny  High: 64 °F   \n",
       "8     FridayNight  Mostly Cloudy   Low: 50 °F   \n",
       "\n",
       "                                                                                                                                  descs  \\\n",
       "0                               Overnight: Partly cloudy, with a low around 51. West wind around 14 mph, with gusts as high as 20 mph.    \n",
       "1  Tuesday: Sunny, with a high near 64. Light west wind increasing to 10 to 15 mph in the morning. Winds could gust as high as 20 mph.    \n",
       "2                                    Tuesday Night: Mostly clear, with a low around 50. West wind 5 to 9 mph becoming light southwest.    \n",
       "3                                Wednesday: Sunny, with a high near 65. West southwest wind 6 to 16 mph, with gusts as high as 21 mph.    \n",
       "4                       Wednesday Night: Mostly clear, with a low around 50. Southwest wind 9 to 14 mph, with gusts as high as 20 mph.    \n",
       "5                                                                                                 Thursday: Sunny, with a high near 65.   \n",
       "6                                                                                  Thursday Night: Partly cloudy, with a low around 50.   \n",
       "7                                                                                            Friday: Mostly sunny, with a high near 64.   \n",
       "8                                                                                    Friday Night: Mostly cloudy, with a low around 50.   \n",
       "\n",
       "   is_night  \n",
       "0      True  \n",
       "1     False  \n",
       "2      True  \n",
       "3     False  \n",
       "4      True  \n",
       "5     False  \n",
       "6      True  \n",
       "7     False  \n",
       "8      True  "
      ]
     },
     "execution_count": 44,
     "metadata": {},
     "output_type": "execute_result"
    }
   ],
   "source": [
    "weather"
   ]
  },
  {
   "cell_type": "code",
   "execution_count": null,
   "metadata": {},
   "outputs": [],
   "source": []
  },
  {
   "cell_type": "code",
   "execution_count": null,
   "metadata": {},
   "outputs": [],
   "source": []
  },
  {
   "cell_type": "code",
   "execution_count": null,
   "metadata": {},
   "outputs": [],
   "source": []
  },
  {
   "cell_type": "code",
   "execution_count": null,
   "metadata": {},
   "outputs": [],
   "source": []
  },
  {
   "cell_type": "code",
   "execution_count": null,
   "metadata": {},
   "outputs": [],
   "source": []
  },
  {
   "cell_type": "code",
   "execution_count": null,
   "metadata": {},
   "outputs": [],
   "source": []
  },
  {
   "cell_type": "code",
   "execution_count": null,
   "metadata": {},
   "outputs": [],
   "source": []
  },
  {
   "cell_type": "code",
   "execution_count": null,
   "metadata": {},
   "outputs": [],
   "source": []
  },
  {
   "cell_type": "code",
   "execution_count": null,
   "metadata": {},
   "outputs": [],
   "source": []
  },
  {
   "cell_type": "code",
   "execution_count": null,
   "metadata": {},
   "outputs": [],
   "source": []
  },
  {
   "cell_type": "code",
   "execution_count": 39,
   "metadata": {},
   "outputs": [
    {
     "data": {
      "text/html": [
       "<style  type=\"text/css\" >\n",
       "    #T_4dfe7970_a1c5_11eb_b915_ec8eb5567555 th {\n",
       "          text-align: left;\n",
       "    }#T_4dfe7970_a1c5_11eb_b915_ec8eb5567555row0_col0,#T_4dfe7970_a1c5_11eb_b915_ec8eb5567555row0_col1,#T_4dfe7970_a1c5_11eb_b915_ec8eb5567555row0_col2,#T_4dfe7970_a1c5_11eb_b915_ec8eb5567555row1_col0,#T_4dfe7970_a1c5_11eb_b915_ec8eb5567555row1_col1,#T_4dfe7970_a1c5_11eb_b915_ec8eb5567555row1_col2,#T_4dfe7970_a1c5_11eb_b915_ec8eb5567555row2_col0,#T_4dfe7970_a1c5_11eb_b915_ec8eb5567555row2_col1,#T_4dfe7970_a1c5_11eb_b915_ec8eb5567555row2_col2,#T_4dfe7970_a1c5_11eb_b915_ec8eb5567555row3_col0,#T_4dfe7970_a1c5_11eb_b915_ec8eb5567555row3_col1,#T_4dfe7970_a1c5_11eb_b915_ec8eb5567555row3_col2,#T_4dfe7970_a1c5_11eb_b915_ec8eb5567555row4_col0,#T_4dfe7970_a1c5_11eb_b915_ec8eb5567555row4_col1,#T_4dfe7970_a1c5_11eb_b915_ec8eb5567555row4_col2,#T_4dfe7970_a1c5_11eb_b915_ec8eb5567555row5_col0,#T_4dfe7970_a1c5_11eb_b915_ec8eb5567555row5_col1,#T_4dfe7970_a1c5_11eb_b915_ec8eb5567555row5_col2,#T_4dfe7970_a1c5_11eb_b915_ec8eb5567555row6_col0,#T_4dfe7970_a1c5_11eb_b915_ec8eb5567555row6_col1,#T_4dfe7970_a1c5_11eb_b915_ec8eb5567555row6_col2{\n",
       "            text-align:  center;\n",
       "        }</style><table id=\"T_4dfe7970_a1c5_11eb_b915_ec8eb5567555\" ><thead>    <tr>        <th class=\"blank level0\" ></th>        <th class=\"col_heading level0 col0\" >Unit</th>        <th class=\"col_heading level0 col1\" >Abbreviation</th>        <th class=\"col_heading level0 col2\" >Storage</th>    </tr></thead><tbody>\n",
       "                <tr>\n",
       "                        <th id=\"T_4dfe7970_a1c5_11eb_b915_ec8eb5567555level0_row0\" class=\"row_heading level0 row0\" >0</th>\n",
       "                        <td id=\"T_4dfe7970_a1c5_11eb_b915_ec8eb5567555row0_col0\" class=\"data row0 col0\" >Bit</td>\n",
       "                        <td id=\"T_4dfe7970_a1c5_11eb_b915_ec8eb5567555row0_col1\" class=\"data row0 col1\" >b</td>\n",
       "                        <td id=\"T_4dfe7970_a1c5_11eb_b915_ec8eb5567555row0_col2\" class=\"data row0 col2\" >Binary digit, single 0 or 1</td>\n",
       "            </tr>\n",
       "            <tr>\n",
       "                        <th id=\"T_4dfe7970_a1c5_11eb_b915_ec8eb5567555level0_row1\" class=\"row_heading level0 row1\" >1</th>\n",
       "                        <td id=\"T_4dfe7970_a1c5_11eb_b915_ec8eb5567555row1_col0\" class=\"data row1 col0\" >Nibble</td>\n",
       "                        <td id=\"T_4dfe7970_a1c5_11eb_b915_ec8eb5567555row1_col1\" class=\"data row1 col1\" >-</td>\n",
       "                        <td id=\"T_4dfe7970_a1c5_11eb_b915_ec8eb5567555row1_col2\" class=\"data row1 col2\" >4 bits</td>\n",
       "            </tr>\n",
       "            <tr>\n",
       "                        <th id=\"T_4dfe7970_a1c5_11eb_b915_ec8eb5567555level0_row2\" class=\"row_heading level0 row2\" >2</th>\n",
       "                        <td id=\"T_4dfe7970_a1c5_11eb_b915_ec8eb5567555row2_col0\" class=\"data row2 col0\" >Byte/Octet</td>\n",
       "                        <td id=\"T_4dfe7970_a1c5_11eb_b915_ec8eb5567555row2_col1\" class=\"data row2 col1\" >B</td>\n",
       "                        <td id=\"T_4dfe7970_a1c5_11eb_b915_ec8eb5567555row2_col2\" class=\"data row2 col2\" >8 bits</td>\n",
       "            </tr>\n",
       "            <tr>\n",
       "                        <th id=\"T_4dfe7970_a1c5_11eb_b915_ec8eb5567555level0_row3\" class=\"row_heading level0 row3\" >3</th>\n",
       "                        <td id=\"T_4dfe7970_a1c5_11eb_b915_ec8eb5567555row3_col0\" class=\"data row3 col0\" >Kilobyte</td>\n",
       "                        <td id=\"T_4dfe7970_a1c5_11eb_b915_ec8eb5567555row3_col1\" class=\"data row3 col1\" >KB</td>\n",
       "                        <td id=\"T_4dfe7970_a1c5_11eb_b915_ec8eb5567555row3_col2\" class=\"data row3 col2\" >1024 bytes</td>\n",
       "            </tr>\n",
       "            <tr>\n",
       "                        <th id=\"T_4dfe7970_a1c5_11eb_b915_ec8eb5567555level0_row4\" class=\"row_heading level0 row4\" >4</th>\n",
       "                        <td id=\"T_4dfe7970_a1c5_11eb_b915_ec8eb5567555row4_col0\" class=\"data row4 col0\" >Megabyte</td>\n",
       "                        <td id=\"T_4dfe7970_a1c5_11eb_b915_ec8eb5567555row4_col1\" class=\"data row4 col1\" >MB</td>\n",
       "                        <td id=\"T_4dfe7970_a1c5_11eb_b915_ec8eb5567555row4_col2\" class=\"data row4 col2\" >1024 KB</td>\n",
       "            </tr>\n",
       "            <tr>\n",
       "                        <th id=\"T_4dfe7970_a1c5_11eb_b915_ec8eb5567555level0_row5\" class=\"row_heading level0 row5\" >5</th>\n",
       "                        <td id=\"T_4dfe7970_a1c5_11eb_b915_ec8eb5567555row5_col0\" class=\"data row5 col0\" >Gigabyte</td>\n",
       "                        <td id=\"T_4dfe7970_a1c5_11eb_b915_ec8eb5567555row5_col1\" class=\"data row5 col1\" >GB</td>\n",
       "                        <td id=\"T_4dfe7970_a1c5_11eb_b915_ec8eb5567555row5_col2\" class=\"data row5 col2\" >1024 MB</td>\n",
       "            </tr>\n",
       "            <tr>\n",
       "                        <th id=\"T_4dfe7970_a1c5_11eb_b915_ec8eb5567555level0_row6\" class=\"row_heading level0 row6\" >6</th>\n",
       "                        <td id=\"T_4dfe7970_a1c5_11eb_b915_ec8eb5567555row6_col0\" class=\"data row6 col0\" >Terabyte</td>\n",
       "                        <td id=\"T_4dfe7970_a1c5_11eb_b915_ec8eb5567555row6_col1\" class=\"data row6 col1\" >TB</td>\n",
       "                        <td id=\"T_4dfe7970_a1c5_11eb_b915_ec8eb5567555row6_col2\" class=\"data row6 col2\" >1024 GB</td>\n",
       "            </tr>\n",
       "    </tbody></table>"
      ],
      "text/plain": [
       "<pandas.io.formats.style.Styler at 0x2064ac4bd60>"
      ]
     },
     "execution_count": 39,
     "metadata": {},
     "output_type": "execute_result"
    }
   ],
   "source": [
    "import pandas as pd\n",
    "df = pd.DataFrame({'Unit': ['Bit', 'Nibble','Byte/Octet', 'Kilobyte', 'Megabyte', 'Gigabyte', 'Terabyte'], \n",
    "                   'Abbreviation': ['b', '-', 'B', 'KB', 'MB', 'GB', 'TB'], \n",
    "                'Storage': ['Binary digit, single 0 or 1', '4 bits', '8 bits', '1024 bytes', '1024 KB', '1024 MB', '1024 GB']})\n",
    "df.style.set_table_styles([dict(selector='th', props=[('text-align', 'left')])]).set_properties(**{'text-align': 'center'})"
   ]
  },
  {
   "cell_type": "code",
   "execution_count": null,
   "metadata": {},
   "outputs": [],
   "source": []
  }
 ],
 "metadata": {
  "kernelspec": {
   "display_name": "Python 3",
   "language": "python",
   "name": "python3"
  },
  "language_info": {
   "codemirror_mode": {
    "name": "ipython",
    "version": 3
   },
   "file_extension": ".py",
   "mimetype": "text/x-python",
   "name": "python",
   "nbconvert_exporter": "python",
   "pygments_lexer": "ipython3",
   "version": "3.8.5"
  }
 },
 "nbformat": 4,
 "nbformat_minor": 4
}
