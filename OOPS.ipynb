{
 "cells": [
  {
   "cell_type": "code",
   "execution_count": 1,
   "metadata": {},
   "outputs": [],
   "source": [
    "#1. Abstraction\n",
    "#2. Polymorphism\n",
    "#3. Inheritance\n",
    "#4. Encapsulation"
   ]
  },
  {
   "cell_type": "markdown",
   "metadata": {},
   "source": [
    "# Class and objects"
   ]
  },
  {
   "cell_type": "code",
   "execution_count": 2,
   "metadata": {},
   "outputs": [],
   "source": [
    "class Mobile:\n",
    "    def __init__(self,m):\n",
    "        self.model=m\n",
    "    def show_model(self,p):\n",
    "        self.price=p\n",
    "        print('Model : ',self.model,'Price : ',price)\n",
    "\n"
   ]
  },
  {
   "cell_type": "code",
   "execution_count": 3,
   "metadata": {},
   "outputs": [
    {
     "name": "stdout",
     "output_type": "stream",
     "text": [
      "I am a method\n"
     ]
    }
   ],
   "source": [
    "class Myclass:\n",
    "    def show (self):\n",
    "        print(\"I am a method\")\n",
    "\n",
    "x=Myclass()\n",
    "x.show()"
   ]
  },
  {
   "cell_type": "code",
   "execution_count": 4,
   "metadata": {},
   "outputs": [
    {
     "name": "stdout",
     "output_type": "stream",
     "text": [
      "Model :  Realme X\n"
     ]
    }
   ],
   "source": [
    "class Mobile:\n",
    "    def __init__(self):\n",
    "        self.model='Realme X'\n",
    "    def show_model(self):\n",
    "        print(\"Model : \",self.model)\n",
    "\n",
    "realme=Mobile() # here, object is created\n",
    "realme.show_model()"
   ]
  },
  {
   "cell_type": "code",
   "execution_count": 5,
   "metadata": {},
   "outputs": [
    {
     "name": "stdout",
     "output_type": "stream",
     "text": [
      "Model :  Realme X Price :  1000\n",
      "2742130621792\n",
      "Model :  Redmi 7s Price :  2000\n",
      "2742130622368\n",
      "Model :  Samsung Price :  4000\n",
      "2742130621072\n"
     ]
    }
   ],
   "source": [
    "class Mobile:\n",
    "    def __init__(self,m):\n",
    "        self.model=m\n",
    "    \n",
    "    def show_model(self,p):\n",
    "        self.price=p\n",
    "        print(\"Model : \",self.model,\"Price : \",self.price)\n",
    "\n",
    "realme=Mobile('Realme X') \n",
    "realme.show_model(1000)\n",
    "print(id(realme))\n",
    "\n",
    "redmi=Mobile('Redmi 7s')\n",
    "redmi.show_model(2000)\n",
    "print(id(redmi))\n",
    "\n",
    "geek=Mobile('Samsung')\n",
    "geek.show_model(4000)\n",
    "print(id(geek))"
   ]
  },
  {
   "cell_type": "markdown",
   "metadata": {},
   "source": [
    "### Constructors"
   ]
  },
  {
   "cell_type": "code",
   "execution_count": 6,
   "metadata": {},
   "outputs": [
    {
     "name": "stdout",
     "output_type": "stream",
     "text": [
      "Mobile constructor called\n"
     ]
    }
   ],
   "source": [
    "class Mobile:\n",
    "    def __init__(self):\n",
    "        print(\"Mobile constructor called\")\n",
    "        \n",
    "realme=Mobile()"
   ]
  },
  {
   "cell_type": "code",
   "execution_count": 7,
   "metadata": {},
   "outputs": [
    {
     "name": "stdout",
     "output_type": "stream",
     "text": [
      "Model :  Realme X Price :  1000\n",
      "Volume :  80\n",
      "\n",
      "Model :  Redmi 7s Price :  2000\n",
      "Volume :  50\n"
     ]
    }
   ],
   "source": [
    "class Mobile:\n",
    "    def __init__(self,m,v=80):\n",
    "        self.model=m\n",
    "        self.volume=v\n",
    "    \n",
    "    def show_model(self,p):\n",
    "        price=p\n",
    "        print(\"Model : \",self.model,\"Price : \",price)\n",
    "        print(\"Volume : \",self.volume)\n",
    "\n",
    "realme=Mobile('Realme X') \n",
    "realme.show_model(1000)\n",
    "print()\n",
    "redmi=Mobile('Redmi 7s',50)\n",
    "redmi.show_model(2000)\n",
    "\n"
   ]
  },
  {
   "cell_type": "markdown",
   "metadata": {},
   "source": [
    "# Types of variable"
   ]
  },
  {
   "cell_type": "code",
   "execution_count": 8,
   "metadata": {},
   "outputs": [],
   "source": [
    "# instance variable and accessing it \n",
    "\n",
    "class Mobile:\n",
    "    def __init__(self):\n",
    "        self.model = 'Realme X'  # Realme is an instance variable.\n",
    "    def show_model(self):        # show_model() is an instance method.\n",
    "        print(self.model)        # accessing instance variable.\n",
    "        \n",
    "realme=Mobile()"
   ]
  },
  {
   "cell_type": "code",
   "execution_count": 9,
   "metadata": {},
   "outputs": [
    {
     "name": "stdout",
     "output_type": "stream",
     "text": [
      "Realme X\n",
      "Realme X\n",
      "Realme X\n",
      "\n",
      "Realme X\n",
      "Redmi 7s\n",
      "Realme X\n"
     ]
    }
   ],
   "source": [
    "# outside class\n",
    "class Mobile:\n",
    "    def __init__(self):\n",
    "        self.model = 'Realme X'\n",
    "    def show_model(self):\n",
    "        self.model\n",
    "\n",
    "realme = Mobile()\n",
    "redmi = Mobile()\n",
    "geek = Mobile()\n",
    "print(realme.model)  # accessing instance variable outside class using object.\n",
    "print(redmi.model)\n",
    "print(geek.model)\n",
    "print()\n",
    "redmi.model='Redmi 7s'\n",
    "print(realme.model)\n",
    "print(redmi.model)\n",
    "print(geek.model)"
   ]
  },
  {
   "cell_type": "markdown",
   "metadata": {},
   "source": [
    "### class variable "
   ]
  },
  {
   "cell_type": "code",
   "execution_count": 10,
   "metadata": {},
   "outputs": [
    {
     "name": "stdout",
     "output_type": "stream",
     "text": [
      "Yes\n"
     ]
    }
   ],
   "source": [
    "class Mobile:\n",
    "    fp='Yes'\n",
    "    \n",
    "    @classmethod\n",
    "    def is_fp(cls):\n",
    "        print(cls.fp)\n",
    "realme=Mobile()\n",
    "print(Mobile.fp)"
   ]
  },
  {
   "cell_type": "code",
   "execution_count": 11,
   "metadata": {},
   "outputs": [
    {
     "name": "stdout",
     "output_type": "stream",
     "text": [
      "Model :  Realme X \n",
      "Price :  1000\n",
      "\n",
      "Mobile Available :  Yes \n",
      "RAM :  4GB\n"
     ]
    }
   ],
   "source": [
    "# use of class method\n",
    "class Mobile:\n",
    "    fp='Yes'\n",
    "    def __init__(self,m):\n",
    "        self.model = m\n",
    "    def show_model(self,p):\n",
    "        self.price=p\n",
    "        print(\"Model : \",self.model,'\\n' \"Price : \",self.price)\n",
    "    \n",
    "    @classmethod\n",
    "    def show_classmodel(cls,r):\n",
    "        cls.ram=r\n",
    "        print(\"Mobile Available : \",cls.fp,'\\n' \"RAM : \",cls.ram)\n",
    "\n",
    "realme = Mobile('Realme X')\n",
    "realme.show_model(1000)\n",
    "print()\n",
    "redmi = Mobile('No')\n",
    "Mobile.show_classmodel('4GB')"
   ]
  },
  {
   "cell_type": "code",
   "execution_count": 12,
   "metadata": {},
   "outputs": [
    {
     "name": "stdout",
     "output_type": "stream",
     "text": [
      "Model :  Realme X \n",
      "Price :  1000\n"
     ]
    }
   ],
   "source": [
    "# use of static method\n",
    "class Mobile:\n",
    "    @staticmethod\n",
    "    def show_model(m,p):\n",
    "        model=m\n",
    "        price=p\n",
    "        print(\"Model : \",model,'\\n' \"Price : \",price)\n",
    "        \n",
    "realme = Mobile()\n",
    "Mobile.show_model('Realme X',1000)"
   ]
  },
  {
   "cell_type": "markdown",
   "metadata": {},
   "source": [
    "# Inheritance"
   ]
  },
  {
   "cell_type": "markdown",
   "metadata": {},
   "source": [
    "#### The mechanism of deriving of new class from an old (existing class) such that the new class inherit all the members of old class is called as \"Inheritance\". "
   ]
  },
  {
   "cell_type": "code",
   "execution_count": 13,
   "metadata": {},
   "outputs": [],
   "source": [
    "# Super class and Sub class\n",
    "# Parent class - Base class or super class\n",
    "# Child class - Derived class or sub class"
   ]
  },
  {
   "cell_type": "code",
   "execution_count": 14,
   "metadata": {},
   "outputs": [],
   "source": [
    "# Advantage of inheritance is code reusability"
   ]
  },
  {
   "cell_type": "code",
   "execution_count": 15,
   "metadata": {},
   "outputs": [],
   "source": [
    "# Types of Inheritance\n",
    "# 1. Single\n",
    "# 2. Multilevel\n",
    "# 3. Hierarchical\n",
    "# 4 Multiple"
   ]
  },
  {
   "cell_type": "markdown",
   "metadata": {},
   "source": [
    "### Single Inheritance"
   ]
  },
  {
   "cell_type": "code",
   "execution_count": 16,
   "metadata": {},
   "outputs": [
    {
     "name": "stdout",
     "output_type": "stream",
     "text": [
      "Child Class Instance Method \n",
      "Parent class Instance Method\n",
      "Parent class class method :  1000\n",
      "Parent class Static Method :  10\n"
     ]
    }
   ],
   "source": [
    "class Father:                                      # parent class\n",
    "    money=1000                                     #class variable\n",
    "    \n",
    "    def show(self):                                # instance method\n",
    "        print(\"Parent class Instance Method\")\n",
    "    \n",
    "    @classmethod                                   #decorator\n",
    "    def showmoney(cls):                            #class method\n",
    "        print(\"Parent class class method : \", cls.money)\n",
    "\n",
    "    @staticmethod                                  #decorator\n",
    "    def stat():                                    #static method\n",
    "        a=10\n",
    "        print(\"Parent class Static Method : \",a)\n",
    "\n",
    "class Son(Father):                                 #child class\n",
    "    def disp(self):                                #instance method\n",
    "        print(\"Child Class Instance Method \")\n",
    "        \n",
    "s=Son()                                            #object created\n",
    "s.disp()\n",
    "s.show()\n",
    "s.showmoney()\n",
    "s.stat()"
   ]
  },
  {
   "cell_type": "code",
   "execution_count": 17,
   "metadata": {},
   "outputs": [
    {
     "name": "stdout",
     "output_type": "stream",
     "text": [
      "Father class Constructor\n",
      "1000\n",
      "Father class  Instance method\n",
      "Child class Instance Method\n"
     ]
    }
   ],
   "source": [
    "# Constructor in Inheritance \n",
    "class Father:\n",
    "    def __init__(self,m):                 #constructor\n",
    "        self.money=m\n",
    "        print(\"Father class Constructor\")\n",
    "    \n",
    "    def show(self):\n",
    "        print(\"Father class  Instance method\")\n",
    "\n",
    "class Son(Father):\n",
    "    def disp(self):\n",
    "        print(\"Child class Instance Method\")\n",
    "\n",
    "s=Son(1000)     # when we create object of child class, parent class constructor automatically invoked.\n",
    "print(s.money)\n",
    "s.show()\n",
    "s.disp()"
   ]
  },
  {
   "cell_type": "code",
   "execution_count": 18,
   "metadata": {},
   "outputs": [
    {
     "name": "stdout",
     "output_type": "stream",
     "text": [
      "Son Class Constructor\n",
      "2000\n",
      "BMW\n",
      "Son class Instance Method\n",
      "Father class Instance Method\n"
     ]
    }
   ],
   "source": [
    "# constructor overriding\n",
    "# when we create constructor in both parent(Father) and child(Son) class,\n",
    "# and object is created for child class (Son), then child class constructor \n",
    "# is called as the object will override the parent class constructor.\n",
    "class Father:\n",
    "    def __init__(self,m):\n",
    "        self.money = m\n",
    "        print(\"Parent class constructor\")\n",
    "    \n",
    "    def show(self):\n",
    "        print(\"Father class Instance Method\")\n",
    "        \n",
    "class Son(Father):\n",
    "    def __init__(self,r):\n",
    "        self.money = r\n",
    "        self.car = 'BMW'\n",
    "        print(\"Son Class Constructor\")\n",
    "        \n",
    "    def disp(self):\n",
    "        print(\"Son class Instance Method\")\n",
    "        \n",
    "s=Son(2000)       # Here,object is created for son class and it will \n",
    "                  # invoke constructor of child(Son) class.\n",
    "print(s.money)\n",
    "print(s.car)\n",
    "s.disp()\n",
    "s.show()\n"
   ]
  },
  {
   "cell_type": "code",
   "execution_count": 19,
   "metadata": {},
   "outputs": [
    {
     "name": "stdout",
     "output_type": "stream",
     "text": [
      "Parent class constructor\n",
      "Son class Constructor\n",
      "Son class Instance Method 1000 \n",
      " Job :  Python\n"
     ]
    }
   ],
   "source": [
    "# In constructor overriding, to call parent class constructor, we will\n",
    "# use super() method.\n",
    "# super() method - it is used to call parent class constructor or methods\n",
    "# from the child class.\n",
    "\n",
    "class Father:\n",
    "    def __init__(self,m):\n",
    "        self.money = m\n",
    "        print(\"Parent class constructor\")\n",
    "    \n",
    "    def show(self):\n",
    "        print(\"Father class Instance Method\")\n",
    "        \n",
    "class Son(Father):\n",
    "    def __init__(self,m,j):\n",
    "        super().__init__(m)                    # Calling parent class constructor\n",
    "        self.job =j\n",
    "        print(\"Son class Constructor\")\n",
    "    \n",
    "    def disp(self):\n",
    "        print(\"Son class Instance Method\",self.money,'\\n ' \"Job : \",self.job)\n",
    "        \n",
    "s=Son(1000,'Python')\n",
    "s.disp()"
   ]
  },
  {
   "cell_type": "markdown",
   "metadata": {},
   "source": [
    "### Multi level Inheritance"
   ]
  },
  {
   "cell_type": "code",
   "execution_count": 20,
   "metadata": {},
   "outputs": [
    {
     "name": "stdout",
     "output_type": "stream",
     "text": [
      "Father Class constructor\n",
      "Son Class constructor\n",
      "GrandSon Class constructor\n"
     ]
    }
   ],
   "source": [
    "class Father:\n",
    "    def __init__(self):\n",
    "        print(\"Father Class constructor\")\n",
    "    def showF(self):\n",
    "        print(\"Father Class Method\")\n",
    "\n",
    "class Son(Father):\n",
    "    def __init__(self):\n",
    "        super().__init__()                    # calling father class constructor\n",
    "        print(\"Son Class constructor\")\n",
    "    def showS(self):\n",
    "        print(\"Son Class Method\")\n",
    "\n",
    "class GrandSon(Son):\n",
    "    def __init__(self):\n",
    "        super().__init__()                    # calling son class constructor\n",
    "        print(\"GrandSon Class constructor\")\n",
    "    def showG(self):\n",
    "        print(\"GrandSon Class Method\")\n",
    "\n",
    "g = GrandSon()\n"
   ]
  },
  {
   "cell_type": "markdown",
   "metadata": {},
   "source": [
    "### Hierarchical Inheritance"
   ]
  },
  {
   "cell_type": "code",
   "execution_count": 21,
   "metadata": {},
   "outputs": [
    {
     "name": "stdout",
     "output_type": "stream",
     "text": [
      "Father Class constructor\n",
      "Daughter Class constructor\n"
     ]
    }
   ],
   "source": [
    "class Father:\n",
    "    def __init__(self):\n",
    "        print(\"Father Class constructor\") \n",
    "    def showF(self):\n",
    "        print(\"Father Class Method\")\n",
    "\n",
    "class Son(Father):\n",
    "    def __init__(self):\n",
    "        super().__init__()\n",
    "        print(\"Son Class constructor\")\n",
    "    def showS(self):\n",
    "        print(\"Son Class Method\")    \n",
    "        \n",
    "class Daughter(Father):\n",
    "    def __init__(self):\n",
    "        super().__init__()\n",
    "        print(\"Daughter Class constructor\")\n",
    "    def showD(self):\n",
    "        print(\"Daughter Class Method\")\n",
    "\n",
    "d= Daughter()\n"
   ]
  },
  {
   "cell_type": "code",
   "execution_count": null,
   "metadata": {},
   "outputs": [],
   "source": []
  }
 ],
 "metadata": {
  "kernelspec": {
   "display_name": "Python 3",
   "language": "python",
   "name": "python3"
  },
  "language_info": {
   "codemirror_mode": {
    "name": "ipython",
    "version": 3
   },
   "file_extension": ".py",
   "mimetype": "text/x-python",
   "name": "python",
   "nbconvert_exporter": "python",
   "pygments_lexer": "ipython3",
   "version": "3.8.5"
  }
 },
 "nbformat": 4,
 "nbformat_minor": 4
}
