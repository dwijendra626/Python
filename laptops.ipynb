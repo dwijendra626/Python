{
 "metadata": {
  "language_info": {
   "codemirror_mode": {
    "name": "ipython",
    "version": 3
   },
   "file_extension": ".py",
   "mimetype": "text/x-python",
   "name": "python",
   "nbconvert_exporter": "python",
   "pygments_lexer": "ipython3",
   "version": "3.9.4"
  },
  "orig_nbformat": 2,
  "kernelspec": {
   "name": "python394jvsc74a57bd0a9c2cc3f350009bfbb73e3c3aac91ef8104af0dc0439d985e0b608cfa5e7738f",
   "display_name": "Python 3.9.4 64-bit"
  },
  "metadata": {
   "interpreter": {
    "hash": "a9c2cc3f350009bfbb73e3c3aac91ef8104af0dc0439d985e0b608cfa5e7738f"
   }
  }
 },
 "nbformat": 4,
 "nbformat_minor": 2,
 "cells": [
  {
   "cell_type": "code",
   "execution_count": 74,
   "metadata": {},
   "outputs": [
    {
     "output_type": "stream",
     "name": "stdout",
     "text": [
      "[('amazon',), ('coffee_store',), ('information_schema',), ('laptop',), ('mysql',), ('performance_schema',), ('python',), ('student',), ('sys',), ('test',)]\n"
     ]
    }
   ],
   "source": [
    "import mysql.connector as connection\n",
    "\n",
    "try:\n",
    "    mydb = connection.connect(host = 'localhost', user = 'root', password = 'Mysql123#')\n",
    "\n",
    "    query = 'SHOW DATABASES'\n",
    "    cursor = mydb.cursor()\n",
    "    cursor.execute(query)\n",
    "\n",
    "    print(cursor.fetchall())\n",
    "\n",
    "except Exception as e:\n",
    "    print(str(e))\n",
    "\n",
    "finally:\n",
    "    if mydb.is_connected():\n",
    "        cursor.close()\n",
    "        mydb.close()"
   ]
  },
  {
   "cell_type": "code",
   "execution_count": 75,
   "metadata": {},
   "outputs": [
    {
     "output_type": "stream",
     "name": "stdout",
     "text": [
      "1007 (HY000): Can't create database 'laptop'; database exists\nmy db is closed\n"
     ]
    }
   ],
   "source": [
    "import mysql.connector as connection\n",
    "\n",
    "try:\n",
    "    mydb = connection.connect(host = 'localhost', user = 'root', password = 'Mysql123#')\n",
    "\n",
    "    query = 'CREATE DATABASE LAPTOP'\n",
    "    cursor = mydb.cursor()\n",
    "    cursor.execute(query)\n",
    "\n",
    "except Exception as e:\n",
    "    print(str(e))\n",
    "\n",
    "finally:\n",
    "    if mydb.is_connected():\n",
    "        cursor.close()\n",
    "        mydb.close()\n",
    "        print('my db is closed')"
   ]
  },
  {
   "cell_type": "code",
   "execution_count": 76,
   "metadata": {},
   "outputs": [
    {
     "output_type": "stream",
     "name": "stdout",
     "text": [
      "[('amazon',), ('coffee_store',), ('information_schema',), ('laptop',), ('mysql',), ('performance_schema',), ('python',), ('student',), ('sys',), ('test',)]\n"
     ]
    }
   ],
   "source": [
    "import mysql.connector as connection\n",
    "\n",
    "try:\n",
    "    mydb = connection.connect(host = 'localhost', user = 'root', password = 'Mysql123#')\n",
    "\n",
    "    query = 'SHOW DATABASES'\n",
    "    cursor = mydb.cursor()\n",
    "    cursor.execute(query)\n",
    "\n",
    "    print(cursor.fetchall())\n",
    "\n",
    "except Exception as e:\n",
    "    print(str(e))\n",
    "\n",
    "finally:\n",
    "    if mydb.is_connected():\n",
    "        cursor.close()\n",
    "        mydb.close()"
   ]
  },
  {
   "cell_type": "code",
   "execution_count": 77,
   "metadata": {},
   "outputs": [
    {
     "output_type": "stream",
     "name": "stdout",
     "text": [
      "1050 (42S01): Table 'laptop_details' already exists\nmy db is closed\n"
     ]
    }
   ],
   "source": [
    "import mysql.connector as connection\n",
    "\n",
    "try:\n",
    "    mydb = connection.connect(host = 'localhost', database = 'LAPTOP', user = 'root', password = 'Mysql123#')\n",
    "\n",
    "    query = 'CREATE TABLE LAPTOP_DETAILS(ID INT(10) AUTO_INCREMENT NOT NULL, NAME VARCHAR(20) NOT NULL, PRICE INT(10) NOT NULL, PURCHASED_DATE DATE NOT NULL, PRIMARY KEY(ID))'\n",
    "\n",
    "    cursor = mydb.cursor()\n",
    "    cursor.execute(query)\n",
    "    print('Table created')\n",
    "    \n",
    "except Exception as e:\n",
    "    print(str(e))\n",
    "\n",
    "finally:\n",
    "    if mydb.is_connected():\n",
    "        cursor.close()\n",
    "        mydb.close()\n",
    "        print('my db is closed')"
   ]
  },
  {
   "cell_type": "code",
   "execution_count": 78,
   "metadata": {},
   "outputs": [
    {
     "output_type": "stream",
     "name": "stdout",
     "text": [
      "('laptop_details',)\nmy db is closed\n"
     ]
    }
   ],
   "source": [
    "import mysql.connector as connection\n",
    "\n",
    "try:\n",
    "    mydb = connection.connect(host = 'localhost', database = 'LAPTOP', user = 'root', password = 'Mysql123#')\n",
    "\n",
    "    query = 'SHOW TABLES'\n",
    "\n",
    "    cursor = mydb.cursor()\n",
    "    cursor.execute(query)\n",
    "    for result in cursor.fetchall():\n",
    "        print(result)\n",
    "        \n",
    "except Exception as e:\n",
    "    print(str(e))\n",
    "\n",
    "finally:\n",
    "    if mydb.is_connected():\n",
    "        cursor.close()\n",
    "        mydb.close()\n",
    "        print('my db is closed')"
   ]
  },
  {
   "cell_type": "code",
   "execution_count": 79,
   "metadata": {},
   "outputs": [
    {
     "output_type": "stream",
     "name": "stdout",
     "text": [
      "1062 (23000): Duplicate entry '1' for key 'laptop_details.PRIMARY'\n"
     ]
    }
   ],
   "source": [
    "import mysql.connector as connection\n",
    "\n",
    "try:\n",
    "    mydb = connection.connect(host = 'localhost', database = 'LAPTOP', user = 'root', password = 'Mysql123#',use_pure=True)\n",
    "\n",
    "    insert_query = \"insert into LAPTOP_DETAILS (id, name, price, purchased_date) values (%s, %s, %s, %s)\"\n",
    "    \n",
    "    records_to_insert = [('1', 'Lenovo Thinkpad', '6459', '2019-08-14'),\n",
    "                         ('2', 'Area 51M', '6999', '2019-04-14'),\n",
    "                         ('3', 'MacBook Pro', '2499', '2019-06-20'),\n",
    "                         ('4', 'HP Pavilion Power', '1999', '2019-01-11'),\n",
    "                         ('5', 'MSI WS75 9TL-496', '5799', '2019-02-27'),\n",
    "                         ('6', 'Microsoft Surface', '2330', '2019-07-23')]\n",
    "\n",
    "    cursor = mydb.cursor()\n",
    "    cursor.executemany(insert_query,records_to_insert)\n",
    "    mydb.commit()\n",
    "    for result in cursor.fetchall():\n",
    "        print(result)\n",
    "    \n",
    "    print(cursor.rowcount, \"Record inserted successfully into Laptop table\")\n",
    "\n",
    "    print(cursor.fetchall())\n",
    "\n",
    "except Exception as e:\n",
    "    print(str(e))\n",
    "\n",
    "finally:\n",
    "    if mydb.is_connected():\n",
    "        cursor.close()\n",
    "        mydb.close()"
   ]
  },
  {
   "cell_type": "code",
   "execution_count": 80,
   "metadata": {},
   "outputs": [
    {
     "output_type": "stream",
     "name": "stdout",
     "text": [
      "(1, 'Lenovo Thinkpad', 6459, datetime.date(2019, 8, 14))\n(2, 'Area 51M', 6999, datetime.date(2019, 4, 14))\n(3, 'MacBook Pro', 2499, datetime.date(2019, 6, 20))\n(4, 'HP Pavilion Power', 1999, datetime.date(2019, 1, 11))\n(5, 'MSI WS75 9TL-496', 5799, datetime.date(2019, 2, 27))\n(6, 'Microsoft Surface', 2330, datetime.date(2019, 7, 23))\n                         \n(3, 'MacBook Pro', 2499, datetime.date(2019, 6, 20))\nmy db is closed\n"
     ]
    }
   ],
   "source": [
    "import mysql.connector as connection\n",
    "\n",
    "try:\n",
    "    mydb = connection.connect(host = 'localhost', database = 'LAPTOP', user = 'root', password = 'Mysql123#')\n",
    "\n",
    "    query = 'SELECT * FROM LAPTOP_DETAILS'\n",
    "\n",
    "    cursor = mydb.cursor()\n",
    "    cursor.execute(query)\n",
    "    for result in cursor.fetchall():\n",
    "        print(result)\n",
    "\n",
    "    print('                         ')\n",
    "\n",
    "    query = \"SELECT * FROM LAPTOP_DETAILS WHERE id=3\"\n",
    "\n",
    "    cursor = mydb.cursor()\n",
    "    cursor.execute(query)\n",
    "    for result in cursor.fetchall():\n",
    "        print(result)\n",
    "\n",
    "   \n",
    "except Exception as e:\n",
    "    print(str(e))\n",
    "\n",
    "finally:\n",
    "    if mydb.is_connected():\n",
    "        cursor.close()\n",
    "        mydb.close()\n",
    "        print('my db is closed')"
   ]
  },
  {
   "cell_type": "code",
   "execution_count": null,
   "metadata": {},
   "outputs": [],
   "source": []
  }
 ]
}