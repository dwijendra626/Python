{
 "cells": [
  {
   "cell_type": "code",
   "execution_count": 1,
   "metadata": {},
   "outputs": [],
   "source": [
    "### An exception is a runtime error"
   ]
  },
  {
   "cell_type": "code",
   "execution_count": 2,
   "metadata": {},
   "outputs": [
    {
     "name": "stdout",
     "output_type": "stream",
     "text": [
      "2.0\n",
      "Rest of the code\n"
     ]
    }
   ],
   "source": [
    "a=10\n",
    "b=5\n",
    "try:\n",
    "    d=a/b\n",
    "    print(d)\n",
    "except ZeroDivisionError:\n",
    "    print(\"Division by zero is not allowed !\")\n",
    "    \n",
    "print(\"Rest of the code\")"
   ]
  },
  {
   "cell_type": "code",
   "execution_count": 3,
   "metadata": {},
   "outputs": [
    {
     "name": "stdout",
     "output_type": "stream",
     "text": [
      "Division by zero is not allowed !\n",
      "Rest of the code\n"
     ]
    }
   ],
   "source": [
    "a=10\n",
    "b=0\n",
    "try:\n",
    "    d=a/b\n",
    "    print(d)\n",
    "except ZeroDivisionError:\n",
    "    print(\"Division by zero is not allowed !\")\n",
    "    \n",
    "print(\"Rest of the code\")"
   ]
  },
  {
   "cell_type": "code",
   "execution_count": 4,
   "metadata": {},
   "outputs": [
    {
     "name": "stdout",
     "output_type": "stream",
     "text": [
      "2.0\n",
      "Inside Try\n",
      "Inside else\n",
      "Rest of the code\n"
     ]
    }
   ],
   "source": [
    "a=10\n",
    "b=5\n",
    "try:\n",
    "    d=a/b\n",
    "    print(d)\n",
    "    print(\"Inside Try\")\n",
    "except ZeroDivisionError:\n",
    "    print(\"Division by zero is not allowed !\")\n",
    "    \n",
    "else:\n",
    "    print(\"Inside else\")\n",
    "    \n",
    "print(\"Rest of the code\")"
   ]
  },
  {
   "cell_type": "code",
   "execution_count": 5,
   "metadata": {},
   "outputs": [
    {
     "name": "stdout",
     "output_type": "stream",
     "text": [
      "Division by zero is not allowed !\n",
      "Rest of the code\n"
     ]
    }
   ],
   "source": [
    "a=10\n",
    "b=0\n",
    "try:\n",
    "    d=a/b\n",
    "    print(d)\n",
    "    print(\"Inside Try\")\n",
    "except ZeroDivisionError:\n",
    "    print(\"Division by zero is not allowed !\")\n",
    "    \n",
    "else:\n",
    "    print(\"Inside else\")\n",
    "    \n",
    "print(\"Rest of the code\")"
   ]
  },
  {
   "cell_type": "code",
   "execution_count": 6,
   "metadata": {},
   "outputs": [
    {
     "name": "stdout",
     "output_type": "stream",
     "text": [
      "2.0\n",
      "Inside Try\n",
      "Inside else\n",
      "Inside Finally\n",
      "Rest of the code\n"
     ]
    }
   ],
   "source": [
    "a=10\n",
    "b=5\n",
    "try:\n",
    "    d=a/b\n",
    "    print(d)\n",
    "    print(\"Inside Try\")\n",
    "except ZeroDivisionError:\n",
    "    print(\"Division by zero is not allowed !\")\n",
    "    \n",
    "else:\n",
    "    print(\"Inside else\")\n",
    "    \n",
    "finally:\n",
    "    print(\"Inside Finally\")\n",
    "    \n",
    "print(\"Rest of the code\")"
   ]
  },
  {
   "cell_type": "code",
   "execution_count": 7,
   "metadata": {},
   "outputs": [
    {
     "name": "stdout",
     "output_type": "stream",
     "text": [
      "Division by zero is not allowed !\n",
      "Inside Finally\n",
      "Rest of the code\n"
     ]
    }
   ],
   "source": [
    "a=10\n",
    "b=0\n",
    "try:\n",
    "    d=a/b\n",
    "    print(d)\n",
    "    print(\"Inside Try\")\n",
    "except ZeroDivisionError:\n",
    "    print(\"Division by zero is not allowed !\")\n",
    "    \n",
    "else:\n",
    "    print(\"Inside else\")\n",
    "    \n",
    "finally:\n",
    "    print(\"Inside Finally\")\n",
    "    \n",
    "print(\"Rest of the code\")"
   ]
  },
  {
   "cell_type": "code",
   "execution_count": 8,
   "metadata": {},
   "outputs": [
    {
     "name": "stdout",
     "output_type": "stream",
     "text": [
      "division by zero\n",
      "Rest of the code\n"
     ]
    }
   ],
   "source": [
    "a=10\n",
    "b=0\n",
    "try:\n",
    "    d=a/b\n",
    "    print(d)\n",
    "    print(\"Inside Try\")\n",
    "except ZeroDivisionError as obj:\n",
    "    print(obj)\n",
    "    \n",
    "print(\"Rest of the code\")"
   ]
  }
 ],
 "metadata": {
  "kernelspec": {
   "display_name": "Python 3",
   "language": "python",
   "name": "python3"
  },
  "language_info": {
   "codemirror_mode": {
    "name": "ipython",
    "version": 3
   },
   "file_extension": ".py",
   "mimetype": "text/x-python",
   "name": "python",
   "nbconvert_exporter": "python",
   "pygments_lexer": "ipython3",
   "version": "3.8.5"
  }
 },
 "nbformat": 4,
 "nbformat_minor": 4
}
